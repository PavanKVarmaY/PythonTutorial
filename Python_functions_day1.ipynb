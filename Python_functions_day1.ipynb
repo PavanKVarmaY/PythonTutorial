{
  "nbformat": 4,
  "nbformat_minor": 0,
  "metadata": {
    "colab": {
      "provenance": []
    },
    "kernelspec": {
      "name": "python3",
      "display_name": "Python 3"
    },
    "language_info": {
      "name": "python"
    }
  },
  "cells": [
    {
      "cell_type": "code",
      "source": [
        "print(\"Hello Python\")"
      ],
      "metadata": {
        "colab": {
          "base_uri": "https://localhost:8080/"
        },
        "id": "qpXTQ68omQwa",
        "outputId": "1ec63004-0f4d-4692-f64e-0018c67af00f"
      },
      "execution_count": 12,
      "outputs": [
        {
          "output_type": "stream",
          "name": "stdout",
          "text": [
            "Hello Python\n"
          ]
        }
      ]
    },
    {
      "cell_type": "code",
      "source": [
        "def BasicHello():\n",
        "  print(\"Hello World\")\n",
        "  print(\"Python\")\n",
        "\n",
        "print(\"Function started\")\n",
        "BasicHello()\n",
        "print(\"Function Ended\")"
      ],
      "metadata": {
        "colab": {
          "base_uri": "https://localhost:8080/"
        },
        "id": "sg6kBKkBvBW-",
        "outputId": "9c48a424-0efc-479e-8185-c986264243aa"
      },
      "execution_count": 18,
      "outputs": [
        {
          "output_type": "stream",
          "name": "stdout",
          "text": [
            "Function started\n",
            "Hello World\n",
            "Python\n",
            "Function Ended\n"
          ]
        }
      ]
    },
    {
      "cell_type": "code",
      "source": [
        "def fun1_square():     #without argument and no return value\n",
        "  x = int(input(\"input the numberONE\"))\n",
        "  print(x*x)\n",
        "\n",
        "fun1_square()"
      ],
      "metadata": {
        "id": "xG0yWNmVxy8C",
        "outputId": "62b5c4b9-209a-417e-f6e0-859b243e5f4e",
        "colab": {
          "base_uri": "https://localhost:8080/"
        }
      },
      "execution_count": 25,
      "outputs": [
        {
          "output_type": "stream",
          "name": "stdout",
          "text": [
            "input the numberONE44\n",
            "1936\n"
          ]
        }
      ]
    }
  ]
}