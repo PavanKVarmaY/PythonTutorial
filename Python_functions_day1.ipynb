{
  "nbformat": 4,
  "nbformat_minor": 0,
  "metadata": {
    "colab": {
      "provenance": [],
      "include_colab_link": true
    },
    "kernelspec": {
      "name": "python3",
      "display_name": "Python 3"
    },
    "language_info": {
      "name": "python"
    }
  },
  "cells": [
    {
      "cell_type": "markdown",
      "metadata": {
        "id": "view-in-github",
        "colab_type": "text"
      },
      "source": [
        "<a href=\"https://colab.research.google.com/github/PavanKVarmaY/PythonTutorial/blob/main/Python_functions_day1.ipynb\" target=\"_parent\"><img src=\"https://colab.research.google.com/assets/colab-badge.svg\" alt=\"Open In Colab\"/></a>"
      ]
    },
    {
      "cell_type": "code",
      "source": [
        "print(\"Hello Python\")"
      ],
      "metadata": {
        "colab": {
          "base_uri": "https://localhost:8080/"
        },
        "id": "qpXTQ68omQwa",
        "outputId": "1ec63004-0f4d-4692-f64e-0018c67af00f"
      },
      "execution_count": null,
      "outputs": [
        {
          "output_type": "stream",
          "name": "stdout",
          "text": [
            "Hello Python\n"
          ]
        }
      ]
    },
    {
      "cell_type": "code",
      "source": [
        "def BasicHello():\n",
        "  print(\"Hello World\")\n",
        "  print(\"Python\")\n",
        "\n",
        "print(\"Function started\")\n",
        "BasicHello()\n",
        "print(\"Function Ended\")"
      ],
      "metadata": {
        "colab": {
          "base_uri": "https://localhost:8080/"
        },
        "id": "sg6kBKkBvBW-",
        "outputId": "9c48a424-0efc-479e-8185-c986264243aa"
      },
      "execution_count": null,
      "outputs": [
        {
          "output_type": "stream",
          "name": "stdout",
          "text": [
            "Function started\n",
            "Hello World\n",
            "Python\n",
            "Function Ended\n"
          ]
        }
      ]
    },
    {
      "cell_type": "code",
      "source": [
        "#Function without argument and no Return value\n",
        "def fun1_square():\n",
        "  x = int(input(\"input the number\"))\n",
        "  print(x*x)\n",
        "\n",
        "fun1_square()"
      ],
      "metadata": {
        "colab": {
          "base_uri": "https://localhost:8080/"
        },
        "id": "xG0yWNmVxy8C",
        "outputId": "dfb91054-7bb5-4e0f-dffb-e1d998959b73"
      },
      "execution_count": null,
      "outputs": [
        {
          "output_type": "stream",
          "name": "stdout",
          "text": [
            "input the number33\n",
            "1089\n"
          ]
        }
      ]
    },
    {
      "cell_type": "code",
      "source": [
        "#Function without Argument and has Return value\n",
        "def fun1_square():\n",
        "  x = int(input(\"input the number\"))\n",
        "  return x*x\n",
        "\n",
        "RESULT = fun1_square()\n",
        "print(RESULT)\n"
      ],
      "metadata": {
        "colab": {
          "base_uri": "https://localhost:8080/"
        },
        "id": "fZ2dhB0r8ZiZ",
        "outputId": "e0120931-da23-4003-ab18-40e180f72fb5"
      },
      "execution_count": null,
      "outputs": [
        {
          "output_type": "stream",
          "name": "stdout",
          "text": [
            "input the number12\n",
            "144\n"
          ]
        }
      ]
    },
    {
      "cell_type": "code",
      "source": [
        "MyName = \"My name is MPavan Kumar Yarramsetti\"\n",
        "MyJob = \"I am test Manager\"\n",
        "MyAge = '35'\n",
        "#print(MyName.upper())\n",
        "#print(MyName[:16].upper())\n",
        "#print(f\"{MyName[11:16]}'s Job is {MyJob[10:]}\")\n",
        "#Age= print(type(MyAge))\n",
        "#print(type(int(MyAge)))\n",
        "#print(int(MyAge)-30)\n",
        "#print(float(MyAge))\n",
        "#print(MyName.find(\"M\"))\n",
        "\n",
        "\"\"\" capture_FName = input(\"Enter the First Name \")\n",
        "capture_LName = input(\"Enter the Last Name \")\n",
        "print(capture_FName + \" \" + capture_LName) \"\"\"\n",
        "\n",
        "print(\"H\" * 10)"
      ],
      "metadata": {
        "id": "t7eevs5F_DBM"
      },
      "execution_count": null,
      "outputs": []
    }
  ]
}