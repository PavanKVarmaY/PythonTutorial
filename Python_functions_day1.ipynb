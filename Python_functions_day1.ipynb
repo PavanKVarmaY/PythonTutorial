{
  "nbformat": 4,
  "nbformat_minor": 0,
  "metadata": {
    "colab": {
      "provenance": []
    },
    "kernelspec": {
      "name": "python3",
      "display_name": "Python 3"
    },
    "language_info": {
      "name": "python"
    }
  },
  "cells": [
    {
      "cell_type": "code",
      "execution_count": 4,
      "metadata": {
        "id": "mxTbot0JMRpv",
        "outputId": "9eb1c567-a681-479f-f5e7-a7e3d45726bd",
        "colab": {
          "base_uri": "https://localhost:8080/"
        }
      },
      "outputs": [
        {
          "output_type": "stream",
          "name": "stdout",
          "text": [
            "25\n"
          ]
        }
      ],
      "source": [
        "a=12\n",
        "b=13\n",
        "Sum = a+b;\n",
        "print(Sum);"
      ]
    }
  ]
}